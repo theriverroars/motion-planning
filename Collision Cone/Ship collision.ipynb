{
 "cells": [
  {
   "cell_type": "code",
   "execution_count": null,
   "metadata": {},
   "outputs": [
    {
     "name": "stdout",
     "output_type": "stream",
     "text": [
      "Time of collision: 0.6851 seconds\n"
     ]
    }
   ],
   "source": [
    "import numpy as np\n",
    "from scipy.optimize import fsolve\n",
    "\n",
    "def ellipse_boundary(t, x0, y0, v, theta, a, b, phi):\n",
    "    \"\"\"Compute the x, y position of a point on the boundary of an ellipse at time t.\"\"\"\n",
    "    # Compute moving center\n",
    "    theta = np.radians(theta)\n",
    "    xc = x0 + v * np.cos(theta) * t\n",
    "    yc = y0 + v * np.sin(theta) * t\n",
    "\n",
    "    # Compute boundary points in local ellipse frame\n",
    "    x = xc + a * np.cos(phi) * np.cos(theta) - b * np.sin(phi) * np.sin(theta)\n",
    "    y = yc + a * np.cos(phi) * np.sin(theta) + b * np.sin(phi) * np.cos(theta)\n",
    "\n",
    "    return x, y\n",
    "\n",
    "def equations(vars, xA0, yA0, vA, thetaA, xB0, yB0, vB, thetaB, a, b):\n",
    "    \"\"\"Equations for finding t and phi values where ellipse boundaries match.\"\"\"\n",
    "    t, phiA, phiB = vars  # Solve for time and ellipse angles\n",
    "\n",
    "    # Compute boundary points for each ellipse\n",
    "    xA, yA = ellipse_boundary(t, xA0, yA0, vA, thetaA, a, b, phiA)\n",
    "    xB, yB = ellipse_boundary(t, xB0, yB0, vB, thetaB, a, b, phiB)\n",
    "\n",
    "    return [xA - xB, yA - yB, (t if t < 0 else 0)]  # Equate positions, solve for t\n",
    "\n",
    "def find_collision_time(xA0, yA0, vA, thetaA, xB0, yB0, vB, thetaB, a, b):\n",
    "    \"\"\"Solve for the earliest collision time where ellipses overlap.\"\"\"\n",
    "    initial_guess = [0, 0, 0]  # Initial t, phiA, phiB\n",
    "    solution = fsolve(equations, initial_guess, args=(xA0, yA0, vA, thetaA, xB0, yB0, vB, thetaB, a, b))\n",
    "    t_collision = solution[0]\n",
    "    \n",
    "    if t_collision < 0:\n",
    "        print(\"Warning: Negative time detected - no collision\")\n",
    "        return None  # No collision in forward time\n",
    "    return t_collision\n",
    "\n",
    "# Given parameters\n",
    "a = 0.1  # Major axis\n",
    "b = 0.02 # Minor axis\n",
    "xA0, yA0 = 0, 0  # Initial position of A\n",
    "xB0, yB0 = 1 * np.cos(np.radians(10)), 1 * np.sin(np.radians(10))  # Initial position of B\n",
    "vA, thetaA = 2, 40  # Velocity and angle of A\n",
    "vB, thetaB = 1, 80  # Velocity and angle of B\n",
    "\n",
    "# Find collision time\n",
    "t_collision = find_collision_time(xA0, yA0, vA, thetaA, xB0, yB0, vB, thetaB, a, b)\n",
    "\n",
    "if t_collision is not None:\n",
    "    print(f\"Time of collision: {t_collision:.4f} seconds\")\n",
    "else:\n",
    "    print(\"No collision detected\")\n"
   ]
  }
 ],
 "metadata": {
  "kernelspec": {
   "display_name": "base",
   "language": "python",
   "name": "python3"
  },
  "language_info": {
   "codemirror_mode": {
    "name": "ipython",
    "version": 3
   },
   "file_extension": ".py",
   "mimetype": "text/x-python",
   "name": "python",
   "nbconvert_exporter": "python",
   "pygments_lexer": "ipython3",
   "version": "3.12.4"
  }
 },
 "nbformat": 4,
 "nbformat_minor": 2
}
